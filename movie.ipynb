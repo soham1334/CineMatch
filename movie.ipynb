{
 "cells": [
  {
   "cell_type": "code",
   "execution_count": 1,
   "id": "3e7c0ffa-fb72-43d6-85fa-808cc1b0ab29",
   "metadata": {},
   "outputs": [],
   "source": [
    "import pandas as pd\n",
    "import numpy as np\n",
    "import ast\n",
    "from sklearn.feature_extraction.text import CountVectorizer\n",
    "import nltk\n",
    "from nltk.stem import WordNetLemmatizer\n",
    "from nltk.tokenize import word_tokenize\n",
    "from sklearn.metrics.pairwise import cosine_similarity"
   ]
  },
  {
   "cell_type": "code",
   "execution_count": 2,
   "id": "f95bec32-5790-42ce-994a-839350536b8b",
   "metadata": {},
   "outputs": [
    {
     "name": "stderr",
     "output_type": "stream",
     "text": [
      "[nltk_data] Downloading package punkt to\n",
      "[nltk_data]     C:\\Users\\SOHAM\\AppData\\Roaming\\nltk_data...\n",
      "[nltk_data]   Package punkt is already up-to-date!\n",
      "[nltk_data] Downloading package punkt_tab to\n",
      "[nltk_data]     C:\\Users\\SOHAM\\AppData\\Roaming\\nltk_data...\n",
      "[nltk_data]   Package punkt_tab is already up-to-date!\n",
      "[nltk_data] Downloading package wordnet to\n",
      "[nltk_data]     C:\\Users\\SOHAM\\AppData\\Roaming\\nltk_data...\n",
      "[nltk_data]   Package wordnet is already up-to-date!\n"
     ]
    },
    {
     "data": {
      "text/plain": [
       "True"
      ]
     },
     "execution_count": 2,
     "metadata": {},
     "output_type": "execute_result"
    }
   ],
   "source": [
    "limit = WordNetLemmatizer()\n",
    "\n",
    "nltk.download('punkt')\n",
    "nltk.download('punkt_tab')\n",
    "nltk.download('wordnet')"
   ]
  },
  {
   "cell_type": "code",
   "execution_count": 3,
   "id": "f37ac495-69fc-4c33-b31d-7852beb6ebc0",
   "metadata": {},
   "outputs": [],
   "source": [
    "file_path1 = r\"C:\\Users\\SOHAM\\Desktop\\movies\\tmdb_5000_credits.csv\"\n",
    "data1 = pd.read_csv(file_path1)\n",
    "file_path2 = r\"C:\\Users\\SOHAM\\Desktop\\movies\\tmdb_5000_movies.csv\"\n",
    "data2 = pd.read_csv(file_path2)"
   ]
  },
  {
   "cell_type": "code",
   "execution_count": 4,
   "id": "4f6846e6-f595-4318-9a6a-421b04a1bfa8",
   "metadata": {},
   "outputs": [],
   "source": [
    "data1 = data1[['movie_id', 'cast', 'crew']]\n"
   ]
  },
  {
   "cell_type": "code",
   "execution_count": 5,
   "id": "eb208740-c9a2-4ee9-ab87-415f32980295",
   "metadata": {},
   "outputs": [],
   "source": [
    "data2.rename(columns={'id': 'movie_id'}, inplace=True)\n"
   ]
  },
  {
   "cell_type": "code",
   "execution_count": 6,
   "id": "9e82c331-a185-4812-ad8f-a754ab907c7c",
   "metadata": {},
   "outputs": [],
   "source": [
    "movies_data = pd.merge(data1,data2,on = \"movie_id\",how = \"inner\")"
   ]
  },
  {
   "cell_type": "code",
   "execution_count": 7,
   "id": "bd8b74ea-25c2-4289-b786-41643dea2ded",
   "metadata": {},
   "outputs": [],
   "source": [
    "movies = movies_data.drop(['original_language', 'original_title','popularity','revenue','runtime','status','vote_average','vote_count','budget','homepage','spoken_languages','tagline'\t],axis=1)"
   ]
  },
  {
   "cell_type": "code",
   "execution_count": 8,
   "id": "dedae94d-bdba-45cb-b7fc-b6b4c8317ab3",
   "metadata": {},
   "outputs": [],
   "source": [
    "#movies.isnull().sum()"
   ]
  },
  {
   "cell_type": "code",
   "execution_count": 9,
   "id": "417ef649-6a59-41aa-9249-afecddc3d95f",
   "metadata": {},
   "outputs": [],
   "source": [
    "movies.dropna(inplace = True)"
   ]
  },
  {
   "cell_type": "code",
   "execution_count": 10,
   "id": "6e547cf4-b544-4d10-98e5-079f9c3a2683",
   "metadata": {},
   "outputs": [],
   "source": [
    "def change (ndarray,string ):\n",
    "    genre = []\n",
    "    for item in ast.literal_eval(ndarray):\n",
    "      genre.append(item[string])\n",
    "\n",
    "    return genre        \n",
    "     "
   ]
  },
  {
   "cell_type": "code",
   "execution_count": 11,
   "id": "c395e3c6-64d4-43f8-bb7f-0d409030250c",
   "metadata": {},
   "outputs": [],
   "source": [
    "movies['genres'] =  movies['genres'].apply(lambda n:change(n,'name'))\n",
    "movies['cast'] =  movies['cast'].apply(lambda n:change(n,'name')).apply(lambda x:x[:1])\n",
    "movies['keywords'] =  movies['keywords'].apply(lambda n:change(n,'name'))\n",
    "movies['production_companies'] =  movies['production_companies'].apply(lambda n:change(n,'name'))\n",
    "movies['production_countries'] =  movies['production_countries'].apply(lambda n:change(n,'name'))\n",
    "movies['crew'] = movies['crew'].apply(lambda n: [d['name'] for d in ast.literal_eval(n) if d['department'] == 'Directing'])"
   ]
  },
  {
   "cell_type": "code",
   "execution_count": 12,
   "id": "50cee044-9817-4627-b32e-5074cd4acf7e",
   "metadata": {
    "scrolled": true
   },
   "outputs": [],
   "source": [
    "#movies.head()"
   ]
  },
  {
   "cell_type": "code",
   "execution_count": 13,
   "id": "3a5c4970-738c-4be5-a38c-d183c7f221e2",
   "metadata": {},
   "outputs": [],
   "source": [
    "movies['merge1'] = movies['genres'] + movies['cast'] + movies['keywords'] + movies['production_companies'] + movies['production_countries'] + movies['crew']"
   ]
  },
  {
   "cell_type": "code",
   "execution_count": 14,
   "id": "115563dc-bbf9-413a-b660-7795c0b0870e",
   "metadata": {},
   "outputs": [],
   "source": [
    "movies['merge1'] = movies['merge1'].apply(lambda ndarr: \" \".join(st.replace(\" \" ,\"\") for st in ndarr))"
   ]
  },
  {
   "cell_type": "code",
   "execution_count": 15,
   "id": "e01d66a3-d138-4bf7-8409-aea9ac21402a",
   "metadata": {},
   "outputs": [],
   "source": [
    "movies['tags'] = movies['merge1'] + movies['overview']"
   ]
  },
  {
   "cell_type": "code",
   "execution_count": 16,
   "id": "373b0a58-806c-4415-a0d4-30cad8e58233",
   "metadata": {},
   "outputs": [],
   "source": [
    "movies = movies[['movie_id','release_date','title','tags']]"
   ]
  },
  {
   "cell_type": "code",
   "execution_count": 17,
   "id": "b2da6c8b-735d-40be-8920-8338d2353809",
   "metadata": {},
   "outputs": [],
   "source": [
    "movies_full = movies.copy()"
   ]
  },
  {
   "cell_type": "code",
   "execution_count": 18,
   "id": "f8b18fba-1b07-4e2b-8e65-f4dbf15f2c00",
   "metadata": {},
   "outputs": [],
   "source": [
    "movies = movies[:1800]"
   ]
  },
  {
   "cell_type": "code",
   "execution_count": 19,
   "id": "2ece9d77-0850-4017-bbac-65b140ea95fd",
   "metadata": {},
   "outputs": [
    {
     "data": {
      "text/plain": [
       "(1800, 4)"
      ]
     },
     "execution_count": 19,
     "metadata": {},
     "output_type": "execute_result"
    }
   ],
   "source": [
    "movies.shape"
   ]
  },
  {
   "cell_type": "code",
   "execution_count": 20,
   "id": "1969029f-88d4-40ba-ae5e-0952cb273d98",
   "metadata": {},
   "outputs": [],
   "source": [
    "movies['tags'] = movies['tags'].apply(lambda n:\" \".join([limit.lemmatize(w) for w in word_tokenize(n)]))"
   ]
  },
  {
   "cell_type": "code",
   "execution_count": 21,
   "id": "f393c017-7f75-46ac-aca3-58b97af5c9cf",
   "metadata": {},
   "outputs": [
    {
     "data": {
      "text/plain": [
       "140741"
      ]
     },
     "execution_count": 21,
     "metadata": {},
     "output_type": "execute_result"
    }
   ],
   "source": [
    "total_words = movies['tags'].apply(lambda x: len(word_tokenize(str(x)))).sum()\n",
    "total_words"
   ]
  },
  {
   "cell_type": "code",
   "execution_count": 22,
   "id": "623f892f-287f-41ad-a4ee-3684c76f091d",
   "metadata": {},
   "outputs": [],
   "source": [
    "#CountVectorizer().get_params()"
   ]
  },
  {
   "cell_type": "code",
   "execution_count": 23,
   "id": "d483eed2-3760-45be-95ee-4a1761084eab",
   "metadata": {},
   "outputs": [],
   "source": [
    "Vectorizer = CountVectorizer(max_features = 3500,stop_words = 'english',strip_accents ='ascii')"
   ]
  },
  {
   "cell_type": "code",
   "execution_count": 24,
   "id": "7a2621ca-7398-4426-a25a-8f48a5113389",
   "metadata": {},
   "outputs": [],
   "source": [
    "vect = Vectorizer.fit_transform(movies['tags']).toarray()"
   ]
  },
  {
   "cell_type": "code",
   "execution_count": 25,
   "id": "de241bf1-beb7-4f14-8f1e-833a451968cd",
   "metadata": {},
   "outputs": [
    {
     "name": "stdout",
     "output_type": "stream",
     "text": [
      "['000' '007' '10' ... 'zeus' 'zombie' 'zoo']\n"
     ]
    }
   ],
   "source": [
    "print(Vectorizer.get_feature_names_out())"
   ]
  },
  {
   "cell_type": "code",
   "execution_count": 26,
   "id": "fa9d2b2d-d132-4ec4-adc0-cbb5b72a1d0d",
   "metadata": {},
   "outputs": [],
   "source": [
    "cosine_vect = cosine_similarity(vect)"
   ]
  },
  {
   "cell_type": "code",
   "execution_count": 27,
   "id": "ef75e4ec-3632-4c11-a787-8238e2667fc1",
   "metadata": {},
   "outputs": [],
   "source": [
    "def find (movie):\n",
    "    index = movies.index[movies['title'] == movie]\n",
    "    c_v = cosine_vect[index][0]\n",
    "    c_v[index] = 0\n",
    "    ind = []\n",
    "    for i in np.arange(10):\n",
    "      pos = np.argmax(c_v)\n",
    "      c_v[pos] = 0\n",
    "      ind.append(pos)\n",
    "        \n",
    "    return titles(ind)\n",
    "   "
   ]
  },
  {
   "cell_type": "code",
   "execution_count": 28,
   "id": "7bb80010-4db9-49f3-a2aa-7b4e5cbae23c",
   "metadata": {},
   "outputs": [],
   "source": [
    "def titles (lst):\n",
    "    df = pd.DataFrame(columns =['title','release_date'])\n",
    "    for i in lst:\n",
    "        row = movies.loc[[i],['title','release_date']]\n",
    "        df =pd.concat([df, row],axis = 0,ignore_index = True)\n",
    "\n",
    "    print(df)    "
   ]
  },
  {
   "cell_type": "code",
   "execution_count": 29,
   "id": "3d6bee24-81f3-49a8-9d42-490504b72ad0",
   "metadata": {},
   "outputs": [],
   "source": [
    "movies.to_csv('movie.csv')"
   ]
  },
  {
   "cell_type": "code",
   "execution_count": 30,
   "id": "6a6289b5-928b-450e-b387-c69776f14f0d",
   "metadata": {},
   "outputs": [],
   "source": [
    "c_v_df =pd.DataFrame(cosine_vect)"
   ]
  },
  {
   "cell_type": "code",
   "execution_count": 31,
   "id": "c8750f63-d511-4afc-bccb-491fd04744e0",
   "metadata": {},
   "outputs": [],
   "source": [
    "c_v_df.to_csv('cosine_vect.csv',index = False)"
   ]
  },
  {
   "cell_type": "code",
   "execution_count": null,
   "id": "492ed813-9b05-4f57-bd45-6eea68290ad9",
   "metadata": {},
   "outputs": [],
   "source": []
  }
 ],
 "metadata": {
  "kernelspec": {
   "display_name": "Python 3 (ipykernel)",
   "language": "python",
   "name": "python3"
  },
  "language_info": {
   "codemirror_mode": {
    "name": "ipython",
    "version": 3
   },
   "file_extension": ".py",
   "mimetype": "text/x-python",
   "name": "python",
   "nbconvert_exporter": "python",
   "pygments_lexer": "ipython3",
   "version": "3.11.0"
  }
 },
 "nbformat": 4,
 "nbformat_minor": 5
}
