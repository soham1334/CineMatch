{
 "cells": [
  {
   "cell_type": "code",
   "execution_count": 1,
   "id": "3e7c0ffa-fb72-43d6-85fa-808cc1b0ab29",
   "metadata": {},
   "outputs": [],
   "source": [
    "import pandas as pd\n",
    "import numpy as np\n",
    "import ast\n",
    "from sklearn.feature_extraction.text import CountVectorizer\n",
    "import nltk\n",
    "from nltk.stem import WordNetLemmatizer\n",
    "from nltk.tokenize import word_tokenize\n",
    "from sklearn.metrics.pairwise import cosine_similarity"
   ]
  },
  {
   "cell_type": "code",
   "execution_count": 2,
   "id": "f95bec32-5790-42ce-994a-839350536b8b",
   "metadata": {},
   "outputs": [
    {
     "name": "stderr",
     "output_type": "stream",
     "text": [
      "[nltk_data] Downloading package punkt to\n",
      "[nltk_data]     C:\\Users\\soham\\AppData\\Roaming\\nltk_data...\n",
      "[nltk_data]   Package punkt is already up-to-date!\n",
      "[nltk_data] Downloading package punkt_tab to\n",
      "[nltk_data]     C:\\Users\\soham\\AppData\\Roaming\\nltk_data...\n",
      "[nltk_data]   Package punkt_tab is already up-to-date!\n",
      "[nltk_data] Downloading package wordnet to\n",
      "[nltk_data]     C:\\Users\\soham\\AppData\\Roaming\\nltk_data...\n",
      "[nltk_data]   Package wordnet is already up-to-date!\n"
     ]
    },
    {
     "data": {
      "text/plain": [
       "True"
      ]
     },
     "execution_count": 2,
     "metadata": {},
     "output_type": "execute_result"
    }
   ],
   "source": [
    "limit = WordNetLemmatizer()\n",
    "\n",
    "nltk.download('punkt')\n",
    "nltk.download('punkt_tab')\n",
    "nltk.download('wordnet')"
   ]
  },
  {
   "cell_type": "code",
   "execution_count": 3,
   "id": "6e87b1b2-7aaf-4a9c-96bd-ed6e9f8c25a0",
   "metadata": {},
   "outputs": [
    {
     "name": "stdout",
     "output_type": "stream",
     "text": [
      "False\n",
      "False\n"
     ]
    }
   ],
   "source": [
    "import os\n",
    "\n",
    "print(os.path.isdir(\"tmdb_5000_credits\"))  # True if it's a directory\n",
    "print(os.path.isfile(\"tmdb_5000_credits\"))  # True if it's a file"
   ]
  },
  {
   "cell_type": "code",
   "execution_count": 4,
   "id": "f37ac495-69fc-4c33-b31d-7852beb6ebc0",
   "metadata": {},
   "outputs": [],
   "source": [
    "file_path1 = r\"C:\\Users\\soham\\OneDrive\\Desktop\\PY\\kagglehub\\datasets\\tmdb\\tmdb-movie-metadata\\versions\\2\\tmdb_5000_credits.csv\"\n",
    "data1 = pd.read_csv(file_path1)\n",
    "file_path2 = r\"C:\\Users\\soham\\OneDrive\\Desktop\\PY\\kagglehub\\datasets\\tmdb\\tmdb-movie-metadata\\versions\\2\\tmdb_5000_movies.csv\"\n",
    "data2 = pd.read_csv(file_path2)"
   ]
  },
  {
   "cell_type": "code",
   "execution_count": 5,
   "id": "4f6846e6-f595-4318-9a6a-421b04a1bfa8",
   "metadata": {},
   "outputs": [],
   "source": [
    "data1 = data1[['movie_id', 'cast', 'crew']]\n"
   ]
  },
  {
   "cell_type": "code",
   "execution_count": 6,
   "id": "eb208740-c9a2-4ee9-ab87-415f32980295",
   "metadata": {},
   "outputs": [],
   "source": [
    "data2.rename(columns={'id': 'movie_id'}, inplace=True)\n"
   ]
  },
  {
   "cell_type": "code",
   "execution_count": 7,
   "id": "9e82c331-a185-4812-ad8f-a754ab907c7c",
   "metadata": {},
   "outputs": [],
   "source": [
    "movies_data = pd.merge(data1,data2,on = \"movie_id\",how = \"inner\")"
   ]
  },
  {
   "cell_type": "code",
   "execution_count": 8,
   "id": "bd8b74ea-25c2-4289-b786-41643dea2ded",
   "metadata": {},
   "outputs": [],
   "source": [
    "movies = movies_data.drop(['original_language', 'original_title','popularity','revenue','runtime','status','vote_average','vote_count','budget','homepage','spoken_languages','tagline'\t],axis=1)"
   ]
  },
  {
   "cell_type": "code",
   "execution_count": 9,
   "id": "dedae94d-bdba-45cb-b7fc-b6b4c8317ab3",
   "metadata": {},
   "outputs": [
    {
     "data": {
      "text/plain": [
       "movie_id                0\n",
       "cast                    0\n",
       "crew                    0\n",
       "genres                  0\n",
       "keywords                0\n",
       "overview                3\n",
       "production_companies    0\n",
       "production_countries    0\n",
       "release_date            1\n",
       "title                   0\n",
       "dtype: int64"
      ]
     },
     "execution_count": 9,
     "metadata": {},
     "output_type": "execute_result"
    }
   ],
   "source": [
    "movies.isnull().sum()"
   ]
  },
  {
   "cell_type": "code",
   "execution_count": 10,
   "id": "417ef649-6a59-41aa-9249-afecddc3d95f",
   "metadata": {},
   "outputs": [],
   "source": [
    "movies.dropna(inplace = True)"
   ]
  },
  {
   "cell_type": "code",
   "execution_count": 11,
   "id": "6e547cf4-b544-4d10-98e5-079f9c3a2683",
   "metadata": {},
   "outputs": [],
   "source": [
    "def change (ndarray,string ):\n",
    "    genre = []\n",
    "    for item in ast.literal_eval(ndarray):\n",
    "      genre.append(item[string])\n",
    "\n",
    "    return genre        \n",
    "     "
   ]
  },
  {
   "cell_type": "code",
   "execution_count": 12,
   "id": "c395e3c6-64d4-43f8-bb7f-0d409030250c",
   "metadata": {},
   "outputs": [],
   "source": [
    "movies['genres'] =  movies['genres'].apply(lambda n:change(n,'name'))\n",
    "movies['cast'] =  movies['cast'].apply(lambda n:change(n,'name')).apply(lambda x:x[:1])\n",
    "movies['keywords'] =  movies['keywords'].apply(lambda n:change(n,'name'))\n",
    "movies['production_companies'] =  movies['production_companies'].apply(lambda n:change(n,'name'))\n",
    "movies['production_countries'] =  movies['production_countries'].apply(lambda n:change(n,'name'))\n",
    "movies['crew'] = movies['crew'].apply(lambda n: [d['name'] for d in ast.literal_eval(n) if d['department'] == 'Directing'])"
   ]
  },
  {
   "cell_type": "code",
   "execution_count": 13,
   "id": "50cee044-9817-4627-b32e-5074cd4acf7e",
   "metadata": {
    "scrolled": true
   },
   "outputs": [
    {
     "data": {
      "text/html": [
       "<div>\n",
       "<style scoped>\n",
       "    .dataframe tbody tr th:only-of-type {\n",
       "        vertical-align: middle;\n",
       "    }\n",
       "\n",
       "    .dataframe tbody tr th {\n",
       "        vertical-align: top;\n",
       "    }\n",
       "\n",
       "    .dataframe thead th {\n",
       "        text-align: right;\n",
       "    }\n",
       "</style>\n",
       "<table border=\"1\" class=\"dataframe\">\n",
       "  <thead>\n",
       "    <tr style=\"text-align: right;\">\n",
       "      <th></th>\n",
       "      <th>movie_id</th>\n",
       "      <th>cast</th>\n",
       "      <th>crew</th>\n",
       "      <th>genres</th>\n",
       "      <th>keywords</th>\n",
       "      <th>overview</th>\n",
       "      <th>production_companies</th>\n",
       "      <th>production_countries</th>\n",
       "      <th>release_date</th>\n",
       "      <th>title</th>\n",
       "    </tr>\n",
       "  </thead>\n",
       "  <tbody>\n",
       "    <tr>\n",
       "      <th>0</th>\n",
       "      <td>19995</td>\n",
       "      <td>[Sam Worthington]</td>\n",
       "      <td>[James Cameron]</td>\n",
       "      <td>[Action, Adventure, Fantasy, Science Fiction]</td>\n",
       "      <td>[culture clash, future, space war, space colon...</td>\n",
       "      <td>In the 22nd century, a paraplegic Marine is di...</td>\n",
       "      <td>[Ingenious Film Partners, Twentieth Century Fo...</td>\n",
       "      <td>[United States of America, United Kingdom]</td>\n",
       "      <td>2009-12-10</td>\n",
       "      <td>Avatar</td>\n",
       "    </tr>\n",
       "    <tr>\n",
       "      <th>1</th>\n",
       "      <td>285</td>\n",
       "      <td>[Johnny Depp]</td>\n",
       "      <td>[Gore Verbinski, Pamela Alch, Sharron Reynolds...</td>\n",
       "      <td>[Adventure, Fantasy, Action]</td>\n",
       "      <td>[ocean, drug abuse, exotic island, east india ...</td>\n",
       "      <td>Captain Barbossa, long believed to be dead, ha...</td>\n",
       "      <td>[Walt Disney Pictures, Jerry Bruckheimer Films...</td>\n",
       "      <td>[United States of America]</td>\n",
       "      <td>2007-05-19</td>\n",
       "      <td>Pirates of the Caribbean: At World's End</td>\n",
       "    </tr>\n",
       "    <tr>\n",
       "      <th>2</th>\n",
       "      <td>206647</td>\n",
       "      <td>[Daniel Craig]</td>\n",
       "      <td>[Sam Mendes, Jayne-Ann Tenggren, Nicoletta Man...</td>\n",
       "      <td>[Action, Adventure, Crime]</td>\n",
       "      <td>[spy, based on novel, secret agent, sequel, mi...</td>\n",
       "      <td>A cryptic message from Bond’s past sends him o...</td>\n",
       "      <td>[Columbia Pictures, Danjaq, B24]</td>\n",
       "      <td>[United Kingdom, United States of America]</td>\n",
       "      <td>2015-10-26</td>\n",
       "      <td>Spectre</td>\n",
       "    </tr>\n",
       "    <tr>\n",
       "      <th>3</th>\n",
       "      <td>49026</td>\n",
       "      <td>[Christian Bale]</td>\n",
       "      <td>[Christopher Nolan, Steve Gehrke, Matthew Reed...</td>\n",
       "      <td>[Action, Crime, Drama, Thriller]</td>\n",
       "      <td>[dc comics, crime fighter, terrorist, secret i...</td>\n",
       "      <td>Following the death of District Attorney Harve...</td>\n",
       "      <td>[Legendary Pictures, Warner Bros., DC Entertai...</td>\n",
       "      <td>[United States of America]</td>\n",
       "      <td>2012-07-16</td>\n",
       "      <td>The Dark Knight Rises</td>\n",
       "    </tr>\n",
       "    <tr>\n",
       "      <th>4</th>\n",
       "      <td>49529</td>\n",
       "      <td>[Taylor Kitsch]</td>\n",
       "      <td>[Andrew Stanton, Annie Penn, Tommy Gormley, Be...</td>\n",
       "      <td>[Action, Adventure, Science Fiction]</td>\n",
       "      <td>[based on novel, mars, medallion, space travel...</td>\n",
       "      <td>John Carter is a war-weary, former military ca...</td>\n",
       "      <td>[Walt Disney Pictures]</td>\n",
       "      <td>[United States of America]</td>\n",
       "      <td>2012-03-07</td>\n",
       "      <td>John Carter</td>\n",
       "    </tr>\n",
       "  </tbody>\n",
       "</table>\n",
       "</div>"
      ],
      "text/plain": [
       "   movie_id               cast  \\\n",
       "0     19995  [Sam Worthington]   \n",
       "1       285      [Johnny Depp]   \n",
       "2    206647     [Daniel Craig]   \n",
       "3     49026   [Christian Bale]   \n",
       "4     49529    [Taylor Kitsch]   \n",
       "\n",
       "                                                crew  \\\n",
       "0                                    [James Cameron]   \n",
       "1  [Gore Verbinski, Pamela Alch, Sharron Reynolds...   \n",
       "2  [Sam Mendes, Jayne-Ann Tenggren, Nicoletta Man...   \n",
       "3  [Christopher Nolan, Steve Gehrke, Matthew Reed...   \n",
       "4  [Andrew Stanton, Annie Penn, Tommy Gormley, Be...   \n",
       "\n",
       "                                          genres  \\\n",
       "0  [Action, Adventure, Fantasy, Science Fiction]   \n",
       "1                   [Adventure, Fantasy, Action]   \n",
       "2                     [Action, Adventure, Crime]   \n",
       "3               [Action, Crime, Drama, Thriller]   \n",
       "4           [Action, Adventure, Science Fiction]   \n",
       "\n",
       "                                            keywords  \\\n",
       "0  [culture clash, future, space war, space colon...   \n",
       "1  [ocean, drug abuse, exotic island, east india ...   \n",
       "2  [spy, based on novel, secret agent, sequel, mi...   \n",
       "3  [dc comics, crime fighter, terrorist, secret i...   \n",
       "4  [based on novel, mars, medallion, space travel...   \n",
       "\n",
       "                                            overview  \\\n",
       "0  In the 22nd century, a paraplegic Marine is di...   \n",
       "1  Captain Barbossa, long believed to be dead, ha...   \n",
       "2  A cryptic message from Bond’s past sends him o...   \n",
       "3  Following the death of District Attorney Harve...   \n",
       "4  John Carter is a war-weary, former military ca...   \n",
       "\n",
       "                                production_companies  \\\n",
       "0  [Ingenious Film Partners, Twentieth Century Fo...   \n",
       "1  [Walt Disney Pictures, Jerry Bruckheimer Films...   \n",
       "2                   [Columbia Pictures, Danjaq, B24]   \n",
       "3  [Legendary Pictures, Warner Bros., DC Entertai...   \n",
       "4                             [Walt Disney Pictures]   \n",
       "\n",
       "                         production_countries release_date  \\\n",
       "0  [United States of America, United Kingdom]   2009-12-10   \n",
       "1                  [United States of America]   2007-05-19   \n",
       "2  [United Kingdom, United States of America]   2015-10-26   \n",
       "3                  [United States of America]   2012-07-16   \n",
       "4                  [United States of America]   2012-03-07   \n",
       "\n",
       "                                      title  \n",
       "0                                    Avatar  \n",
       "1  Pirates of the Caribbean: At World's End  \n",
       "2                                   Spectre  \n",
       "3                     The Dark Knight Rises  \n",
       "4                               John Carter  "
      ]
     },
     "execution_count": 13,
     "metadata": {},
     "output_type": "execute_result"
    }
   ],
   "source": [
    "movies.head()"
   ]
  },
  {
   "cell_type": "code",
   "execution_count": 14,
   "id": "3a5c4970-738c-4be5-a38c-d183c7f221e2",
   "metadata": {},
   "outputs": [],
   "source": [
    "movies['merge1'] = movies['genres'] + movies['cast'] + movies['keywords'] + movies['production_companies'] + movies['production_countries'] + movies['crew']"
   ]
  },
  {
   "cell_type": "code",
   "execution_count": 15,
   "id": "115563dc-bbf9-413a-b660-7795c0b0870e",
   "metadata": {},
   "outputs": [],
   "source": [
    "movies['merge1'] = movies['merge1'].apply(lambda ndarr: \" \".join(st.replace(\" \" ,\"\") for st in ndarr))"
   ]
  },
  {
   "cell_type": "code",
   "execution_count": 16,
   "id": "e01d66a3-d138-4bf7-8409-aea9ac21402a",
   "metadata": {},
   "outputs": [],
   "source": [
    "movies['tags'] = movies['merge1'] + movies['overview']"
   ]
  },
  {
   "cell_type": "code",
   "execution_count": 17,
   "id": "373b0a58-806c-4415-a0d4-30cad8e58233",
   "metadata": {},
   "outputs": [],
   "source": [
    "movies = movies[['movie_id','release_date','title','tags']]"
   ]
  },
  {
   "cell_type": "code",
   "execution_count": 18,
   "id": "1969029f-88d4-40ba-ae5e-0952cb273d98",
   "metadata": {},
   "outputs": [],
   "source": [
    "movies['tags'] = movies['tags'].apply(lambda n:\" \".join([limit.lemmatize(w) for w in word_tokenize(n)]))"
   ]
  },
  {
   "cell_type": "code",
   "execution_count": 19,
   "id": "f393c017-7f75-46ac-aca3-58b97af5c9cf",
   "metadata": {},
   "outputs": [
    {
     "data": {
      "text/plain": [
       "np.int64(361375)"
      ]
     },
     "execution_count": 19,
     "metadata": {},
     "output_type": "execute_result"
    }
   ],
   "source": [
    "total_words = movies['tags'].apply(lambda x: len(word_tokenize(str(x)))).sum()\n",
    "total_words"
   ]
  },
  {
   "cell_type": "code",
   "execution_count": 20,
   "id": "623f892f-287f-41ad-a4ee-3684c76f091d",
   "metadata": {},
   "outputs": [
    {
     "data": {
      "text/plain": [
       "{'analyzer': 'word',\n",
       " 'binary': False,\n",
       " 'decode_error': 'strict',\n",
       " 'dtype': numpy.int64,\n",
       " 'encoding': 'utf-8',\n",
       " 'input': 'content',\n",
       " 'lowercase': True,\n",
       " 'max_df': 1.0,\n",
       " 'max_features': None,\n",
       " 'min_df': 1,\n",
       " 'ngram_range': (1, 1),\n",
       " 'preprocessor': None,\n",
       " 'stop_words': None,\n",
       " 'strip_accents': None,\n",
       " 'token_pattern': '(?u)\\\\b\\\\w\\\\w+\\\\b',\n",
       " 'tokenizer': None,\n",
       " 'vocabulary': None}"
      ]
     },
     "execution_count": 20,
     "metadata": {},
     "output_type": "execute_result"
    }
   ],
   "source": [
    "CountVectorizer().get_params()"
   ]
  },
  {
   "cell_type": "code",
   "execution_count": 21,
   "id": "d483eed2-3760-45be-95ee-4a1761084eab",
   "metadata": {},
   "outputs": [],
   "source": [
    "Vectorizer = CountVectorizer(max_features = 10800,stop_words = 'english',strip_accents ='ascii')"
   ]
  },
  {
   "cell_type": "code",
   "execution_count": 22,
   "id": "7a2621ca-7398-4426-a25a-8f48a5113389",
   "metadata": {},
   "outputs": [],
   "source": [
    "vect = Vectorizer.fit_transform(movies['tags']).toarray()"
   ]
  },
  {
   "cell_type": "code",
   "execution_count": 23,
   "id": "de241bf1-beb7-4f14-8f1e-833a451968cd",
   "metadata": {},
   "outputs": [
    {
     "name": "stdout",
     "output_type": "stream",
     "text": [
      "['000' '007' '10' ... 'zoo' 'zooey' 'zookeeper']\n"
     ]
    }
   ],
   "source": [
    "print(Vectorizer.get_feature_names_out())"
   ]
  },
  {
   "cell_type": "code",
   "execution_count": 24,
   "id": "fa9d2b2d-d132-4ec4-adc0-cbb5b72a1d0d",
   "metadata": {},
   "outputs": [],
   "source": [
    "cosine_vect = cosine_similarity(vect)"
   ]
  },
  {
   "cell_type": "code",
   "execution_count": 25,
   "id": "ef75e4ec-3632-4c11-a787-8238e2667fc1",
   "metadata": {},
   "outputs": [],
   "source": [
    "def find (movie):\n",
    "    index = movies.index[movies['title'] == movie]\n",
    "    c_v = cosine_vect[index][0]\n",
    "    c_v[index] = 0\n",
    "    ind = []\n",
    "    for i in np.arange(10):\n",
    "      pos = np.argmax(c_v)\n",
    "      c_v[pos] = 0\n",
    "      ind.append(pos)\n",
    "        \n",
    "    return titles(ind)\n",
    "   "
   ]
  },
  {
   "cell_type": "code",
   "execution_count": 26,
   "id": "7bb80010-4db9-49f3-a2aa-7b4e5cbae23c",
   "metadata": {},
   "outputs": [],
   "source": [
    "def titles (lst):\n",
    "    df = pd.DataFrame(columns =['title','release_date'])\n",
    "    for i in lst:\n",
    "        row = movies.loc[[i],['title','release_date']]\n",
    "        df =pd.concat([df, row],axis = 0,ignore_index = True)\n",
    "\n",
    "    print(df)    "
   ]
  },
  {
   "cell_type": "code",
   "execution_count": 27,
   "id": "3d6bee24-81f3-49a8-9d42-490504b72ad0",
   "metadata": {},
   "outputs": [],
   "source": [
    "movies.to_csv('movie.csv')"
   ]
  },
  {
   "cell_type": "code",
   "execution_count": 28,
   "id": "6a6289b5-928b-450e-b387-c69776f14f0d",
   "metadata": {},
   "outputs": [],
   "source": [
    "c_v_df =pd.DataFrame(cosine_vect)"
   ]
  },
  {
   "cell_type": "code",
   "execution_count": 29,
   "id": "c8750f63-d511-4afc-bccb-491fd04744e0",
   "metadata": {},
   "outputs": [],
   "source": [
    "c_v_df.to_csv('cosine_vect',index = False)"
   ]
  },
  {
   "cell_type": "code",
   "execution_count": null,
   "id": "492ed813-9b05-4f57-bd45-6eea68290ad9",
   "metadata": {},
   "outputs": [],
   "source": []
  }
 ],
 "metadata": {
  "kernelspec": {
   "display_name": "Python 3 (ipykernel)",
   "language": "python",
   "name": "python3"
  },
  "language_info": {
   "codemirror_mode": {
    "name": "ipython",
    "version": 3
   },
   "file_extension": ".py",
   "mimetype": "text/x-python",
   "name": "python",
   "nbconvert_exporter": "python",
   "pygments_lexer": "ipython3",
   "version": "3.13.1"
  }
 },
 "nbformat": 4,
 "nbformat_minor": 5
}
